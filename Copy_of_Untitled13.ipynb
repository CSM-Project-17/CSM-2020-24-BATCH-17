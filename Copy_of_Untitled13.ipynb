{
  "cells": [
    {
      "cell_type": "code",
      "execution_count": null,
      "metadata": {
        "colab": {
          "base_uri": "https://localhost:8080/"
        },
        "id": "HbenePfq7yUN",
        "outputId": "013dc668-7e6c-48d2-97f2-195445928abc"
      },
      "outputs": [
        {
          "name": "stdout",
          "output_type": "stream",
          "text": [
            "Mounted at /content/drive\n"
          ]
        }
      ],
      "source": [
        "from google.colab import drive\n",
        "drive.mount('/content/drive')"
      ]
    },
    {
      "cell_type": "code",
      "execution_count": null,
      "metadata": {
        "colab": {
          "background_save": true
        },
        "id": "2UOrBQwD8CsC",
        "outputId": "217691ba-8553-442b-e6d3-acb38c98216e"
      },
      "outputs": [
        {
          "name": "stderr",
          "output_type": "stream",
          "text": [
            "WARNING:py.warnings:/usr/local/lib/python3.10/dist-packages/moviepy/video/io/ffmpeg_reader.py:123: UserWarning: Warning: in file /content/drive/MyDrive/VideoBurglary/Burglary1.mp4, 230400 bytes wanted but 0 bytes read,at frame 450/453, at time 15.00/15.08 sec. Using the last valid frame instead.\n",
            "  warnings.warn(\"Warning: in file %s, \"%(self.filename)+\n",
            "\n"
          ]
        }
      ],
      "source": [
        "from moviepy.editor import VideoFileClip\n",
        "from PIL import Image\n",
        "import os\n",
        "\n",
        "def convert_mp4_to_frames(input_folder, output_directory, frame_rate):\n",
        "    # Get a list of all video files in the input folder\n",
        "    video_files = [os.path.join(input_folder, file) for file in os.listdir(input_folder) if file.endswith('.mp4')]\n",
        "\n",
        "    # Process each video file\n",
        "    for input_file in video_files:\n",
        "        clip = VideoFileClip(input_file)\n",
        "        frames = clip.iter_frames(fps=frame_rate)\n",
        "\n",
        "        if not os.path.exists(output_directory):\n",
        "            os.makedirs(output_directory)\n",
        "\n",
        "        frame_count = 1\n",
        "        for frame in frames:\n",
        "            output_path = os.path.join(output_directory, f\"{os.path.basename(input_file)}_frame_{frame_count:04d}.jpg\")\n",
        "            frame_count += 1\n",
        "            frame_image = Image.fromarray(frame)\n",
        "            frame_image.save(output_path)\n",
        "\n",
        "# Example usage\n",
        "frame_rate = 1\n",
        "input_folder = '/content/drive/MyDrive/VideoArrest/'\n",
        "output_directory = '/content/drive/MyDrive/ArrestFrame'\n",
        "convert_mp4_to_frames(input_folder, output_directory, frame_rate)\n",
        "\n",
        "input_folder = '/content/drive/MyDrive/VideoAbuse/'\n",
        "output_directory = '/content/drive/MyDrive/AbuseFrame'\n",
        "convert_mp4_to_frames(input_folder, output_directory, frame_rate)\n",
        "\n",
        "input_folder = '/content/drive/MyDrive/VideoAssault/'\n",
        "output_directory = '/content/drive/MyDrive/AssaultFrame'\n",
        "convert_mp4_to_frames(input_folder, output_directory, frame_rate)\n",
        "\n",
        "input_folder = '/content/drive/MyDrive/VideoFighting/'\n",
        "output_directory = '/content/drive/MyDrive/FightFrame'\n",
        "convert_mp4_to_frames(input_folder, output_directory, frame_rate)\n",
        "\n",
        "input_folder = '/content/drive/MyDrive/VideoBurglary/'\n",
        "output_directory = '/content/drive/MyDrive/BurFrame'\n",
        "convert_mp4_to_frames(input_folder, output_directory, frame_rate)\n",
        "\n",
        "\n",
        "\n"
      ]
    },
    {
      "cell_type": "code",
      "execution_count": null,
      "metadata": {
        "id": "Vs0du50Mu3it"
      },
      "outputs": [],
      "source": []
    },
    {
      "cell_type": "code",
      "execution_count": null,
      "metadata": {
        "colab": {
          "base_uri": "https://localhost:8080/"
        },
        "id": "lXvzkXtvBgRO",
        "outputId": "783695a3-07a8-405d-81a7-b4d335f3923e"
      },
      "outputs": [
        {
          "name": "stdout",
          "output_type": "stream",
          "text": [
            "Requirement already satisfied: imagehash in /usr/local/lib/python3.10/dist-packages (4.3.1)\n",
            "Requirement already satisfied: PyWavelets in /usr/local/lib/python3.10/dist-packages (from imagehash) (1.5.0)\n",
            "Requirement already satisfied: numpy in /usr/local/lib/python3.10/dist-packages (from imagehash) (1.25.2)\n",
            "Requirement already satisfied: pillow in /usr/local/lib/python3.10/dist-packages (from imagehash) (9.4.0)\n",
            "Requirement already satisfied: scipy in /usr/local/lib/python3.10/dist-packages (from imagehash) (1.11.4)\n"
          ]
        }
      ],
      "source": [
        "!pip install imagehash"
      ]
    },
    {
      "cell_type": "code",
      "execution_count": null,
      "metadata": {
        "colab": {
          "base_uri": "https://localhost:8080/"
        },
        "id": "7G5GaV4dC5Eb",
        "outputId": "18585985-878f-4652-f4e1-5abcab2ea22d"
      },
      "outputs": [
        {
          "name": "stdout",
          "output_type": "stream",
          "text": [
            "Requirement already satisfied: pillow in /usr/local/lib/python3.10/dist-packages (9.4.0)\n"
          ]
        }
      ],
      "source": [
        "!pip install pillow"
      ]
    },
    {
      "cell_type": "code",
      "execution_count": null,
      "metadata": {
        "colab": {
          "background_save": true,
          "base_uri": "https://localhost:8080/",
          "height": 1000
        },
        "id": "xxzQMN0K9l3k",
        "outputId": "4d104d85-3b4b-45d1-eea0-bb580e5f9d5d"
      },
      "outputs": [
        {
          "name": "stdout",
          "output_type": "stream",
          "text": [
            "Duplicate frame found: /content/drive/MyDrive/ArrestFrame/Arrest2.mp4_frame_0033.jpg\n",
            "Duplicate frame found: /content/drive/MyDrive/ArrestFrame/Arrest1.mp4_frame_0003.jpg\n",
            "Duplicate frame found: /content/drive/MyDrive/ArrestFrame/Arrest1.mp4_frame_0004.jpg\n",
            "Duplicate frame found: /content/drive/MyDrive/ArrestFrame/Arrest1.mp4_frame_0005.jpg\n",
            "Duplicate frame found: /content/drive/MyDrive/ArrestFrame/Arrest1.mp4_frame_0034.jpg\n",
            "Duplicate frame found: /content/drive/MyDrive/ArrestFrame/Arrest1.mp4_frame_0036.jpg\n",
            "Duplicate frame found: /content/drive/MyDrive/ArrestFrame/Arrest1.mp4_frame_0037.jpg\n",
            "Duplicate frame found: /content/drive/MyDrive/ArrestFrame/Arrest2.mp4_frame_0004.jpg\n",
            "Duplicate frame found: /content/drive/MyDrive/ArrestFrame/Arrest2.mp4_frame_0005.jpg\n",
            "Duplicate frame found: /content/drive/MyDrive/ArrestFrame/Arrest2.mp4_frame_0014.jpg\n",
            "Duplicate frame found: /content/drive/MyDrive/ArrestFrame/Arrest2.mp4_frame_0016.jpg\n",
            "Duplicate frame found: /content/drive/MyDrive/ArrestFrame/Arrest2.mp4_frame_0017.jpg\n",
            "Duplicate frame found: /content/drive/MyDrive/ArrestFrame/Arrest2.mp4_frame_0028.jpg\n",
            "Duplicate frame found: /content/drive/MyDrive/AbuseFrame/Abuse1.mp4_frame_0005.jpg\n",
            "Duplicate frame found: /content/drive/MyDrive/AbuseFrame/Abuse1.mp4_frame_0008.jpg\n",
            "Duplicate frame found: /content/drive/MyDrive/AbuseFrame/Abuse1.mp4_frame_0043.jpg\n",
            "Duplicate frame found: /content/drive/MyDrive/AbuseFrame/Abuse1.mp4_frame_0048.jpg\n",
            "Duplicate frame found: /content/drive/MyDrive/AbuseFrame/Abuse1.mp4_frame_0066.jpg\n",
            "Duplicate frame found: /content/drive/MyDrive/AbuseFrame/Abuse1.mp4_frame_0069.jpg\n",
            "Duplicate frame found: /content/drive/MyDrive/AbuseFrame/Abuse2.mp4_frame_0002.jpg\n",
            "Duplicate frame found: /content/drive/MyDrive/AbuseFrame/Abuse2.mp4_frame_0007.jpg\n",
            "Duplicate frame found: /content/drive/MyDrive/AbuseFrame/Abuse2.mp4_frame_0008.jpg\n",
            "Duplicate frame found: /content/drive/MyDrive/AbuseFrame/Abuse2.mp4_frame_0013.jpg\n",
            "Duplicate frame found: /content/drive/MyDrive/AbuseFrame/Abuse2.mp4_frame_0032.jpg\n",
            "Duplicate frame found: /content/drive/MyDrive/AbuseFrame/Abuse2.mp4_frame_0038.jpg\n",
            "Duplicate frame found: /content/drive/MyDrive/AbuseFrame/Abuse2.mp4_frame_0039.jpg\n",
            "Duplicate frame found: /content/drive/MyDrive/AbuseFrame/Abuse2.mp4_frame_0041.jpg\n",
            "Duplicate frame found: /content/drive/MyDrive/AbuseFrame/Abuse2.mp4_frame_0042.jpg\n",
            "Duplicate frame found: /content/drive/MyDrive/AbuseFrame/Abuse2.mp4_frame_0043.jpg\n",
            "Duplicate frame found: /content/drive/MyDrive/AbuseFrame/Abuse2.mp4_frame_0044.jpg\n",
            "Duplicate frame found: /content/drive/MyDrive/AbuseFrame/Abuse2.mp4_frame_0045.jpg\n",
            "Duplicate frame found: /content/drive/MyDrive/AssaultFrame/Assault1.mp4_frame_0043.jpg\n",
            "Duplicate frame found: /content/drive/MyDrive/AssaultFrame/Assault1.mp4_frame_0046.jpg\n",
            "Duplicate frame found: /content/drive/MyDrive/AssaultFrame/Assault1.mp4_frame_0084.jpg\n",
            "Duplicate frame found: /content/drive/MyDrive/AssaultFrame/Assault2.mp4_frame_0016.jpg\n",
            "Duplicate frame found: /content/drive/MyDrive/AssaultFrame/Assault2.mp4_frame_0019.jpg\n",
            "Duplicate frame found: /content/drive/MyDrive/AssaultFrame/Assault2.mp4_frame_0020.jpg\n",
            "Duplicate frame found: /content/drive/MyDrive/AssaultFrame/Assault2.mp4_frame_0039.jpg\n",
            "Duplicate frame found: /content/drive/MyDrive/AssaultFrame/Assault2.mp4_frame_0041.jpg\n",
            "Duplicate frame found: /content/drive/MyDrive/AssaultFrame/Assault2.mp4_frame_0054.jpg\n",
            "Duplicate frame found: /content/drive/MyDrive/AssaultFrame/Assault2.mp4_frame_0055.jpg\n",
            "Duplicate frame found: /content/drive/MyDrive/AssaultFrame/Assault2.mp4_frame_0057.jpg\n",
            "Duplicate frame found: /content/drive/MyDrive/AssaultFrame/Assault2.mp4_frame_0060.jpg\n",
            "Duplicate frame found: /content/drive/MyDrive/FightFrame/Fighting2.mp4_frame_0018.jpg\n",
            "Duplicate frame found: /content/drive/MyDrive/FightFrame/Fighting2.mp4_frame_0048.jpg\n",
            "Duplicate frame found: /content/drive/MyDrive/FightFrame/Fighting2.mp4_frame_0074.jpg\n",
            "Duplicate frame found: /content/drive/MyDrive/FightFrame/Fighting2.mp4_frame_0094.jpg\n",
            "Duplicate frame found: /content/drive/MyDrive/FightFrame/Fighting2.mp4_frame_0095.jpg\n",
            "Duplicate frame found: /content/drive/MyDrive/FightFrame/Fighting2.mp4_frame_0103.jpg\n",
            "Duplicate frame found: /content/drive/MyDrive/FightFrame/Fighting2.mp4_frame_0105.jpg\n",
            "Duplicate frame found: /content/drive/MyDrive/FightFrame/Fighting2.mp4_frame_0106.jpg\n",
            "Duplicate frame found: /content/drive/MyDrive/FightFrame/Fighting2.mp4_frame_0109.jpg\n",
            "Duplicate frame found: /content/drive/MyDrive/FightFrame/Fighting2.mp4_frame_0124.jpg\n",
            "Duplicate frame found: /content/drive/MyDrive/FightFrame/Fighting2.mp4_frame_0152.jpg\n",
            "Duplicate frame found: /content/drive/MyDrive/FightFrame/Fighting2.mp4_frame_0165.jpg\n",
            "Duplicate frame found: /content/drive/MyDrive/FightFrame/Fighting2.mp4_frame_0167.jpg\n",
            "Duplicate frame found: /content/drive/MyDrive/FightFrame/Fighting2.mp4_frame_0171.jpg\n",
            "Duplicate frame found: /content/drive/MyDrive/FightFrame/Fighting2.mp4_frame_0172.jpg\n",
            "Duplicate frame found: /content/drive/MyDrive/FightFrame/Fighting2.mp4_frame_0173.jpg\n",
            "Duplicate frame found: /content/drive/MyDrive/FightFrame/Fighting2.mp4_frame_0175.jpg\n",
            "Duplicate frame found: /content/drive/MyDrive/FightFrame/Fighting2.mp4_frame_0178.jpg\n",
            "Duplicate frame found: /content/drive/MyDrive/FightFrame/Fighting2.mp4_frame_0185.jpg\n",
            "Duplicate frame found: /content/drive/MyDrive/FightFrame/Fighting2.mp4_frame_0186.jpg\n",
            "Duplicate frame found: /content/drive/MyDrive/FightFrame/Fighting2.mp4_frame_0187.jpg\n",
            "Duplicate frame found: /content/drive/MyDrive/FightFrame/Fighting2.mp4_frame_0004.jpg\n",
            "Duplicate frame found: /content/drive/MyDrive/FightFrame/Fighting2.mp4_frame_0024.jpg\n",
            "Duplicate frame found: /content/drive/MyDrive/FightFrame/Fighting2.mp4_frame_0027.jpg\n",
            "Duplicate frame found: /content/drive/MyDrive/FightFrame/Fighting2.mp4_frame_0047.jpg\n",
            "Duplicate frame found: /content/drive/MyDrive/FightFrame/Fighting2.mp4_frame_0055.jpg\n",
            "Duplicate frame found: /content/drive/MyDrive/FightFrame/Fighting2.mp4_frame_0056.jpg\n",
            "Duplicate frame found: /content/drive/MyDrive/FightFrame/Fighting2.mp4_frame_0057.jpg\n",
            "Duplicate frame found: /content/drive/MyDrive/FightFrame/Fighting2.mp4_frame_0059.jpg\n",
            "Duplicate frame found: /content/drive/MyDrive/FightFrame/Fighting2.mp4_frame_0065.jpg\n",
            "Duplicate frame found: /content/drive/MyDrive/FightFrame/Fighting2.mp4_frame_0072.jpg\n",
            "Duplicate frame found: /content/drive/MyDrive/FightFrame/Fighting2.mp4_frame_0092.jpg\n",
            "Duplicate frame found: /content/drive/MyDrive/FightFrame/Fighting2.mp4_frame_0096.jpg\n",
            "Duplicate frame found: /content/drive/MyDrive/FightFrame/Fighting2.mp4_frame_0101.jpg\n",
            "Duplicate frame found: /content/drive/MyDrive/FightFrame/Fighting2.mp4_frame_0107.jpg\n",
            "Duplicate frame found: /content/drive/MyDrive/FightFrame/Fighting2.mp4_frame_0112.jpg\n",
            "Duplicate frame found: /content/drive/MyDrive/FightFrame/Fighting2.mp4_frame_0114.jpg\n",
            "Duplicate frame found: /content/drive/MyDrive/FightFrame/Fighting2.mp4_frame_0122.jpg\n",
            "Duplicate frame found: /content/drive/MyDrive/FightFrame/Fighting2.mp4_frame_0123.jpg\n",
            "Duplicate frame found: /content/drive/MyDrive/FightFrame/Fighting2.mp4_frame_0133.jpg\n",
            "Duplicate frame found: /content/drive/MyDrive/FightFrame/Fighting2.mp4_frame_0142.jpg\n",
            "Duplicate frame found: /content/drive/MyDrive/FightFrame/Fighting2.mp4_frame_0143.jpg\n",
            "Duplicate frame found: /content/drive/MyDrive/FightFrame/Fighting2.mp4_frame_0144.jpg\n",
            "Duplicate frame found: /content/drive/MyDrive/FightFrame/Fighting2.mp4_frame_0145.jpg\n",
            "Duplicate frame found: /content/drive/MyDrive/FightFrame/Fighting2.mp4_frame_0154.jpg\n",
            "Duplicate frame found: /content/drive/MyDrive/FightFrame/Fighting2.mp4_frame_0156.jpg\n",
            "Duplicate frame found: /content/drive/MyDrive/FightFrame/Fighting2.mp4_frame_0161.jpg\n",
            "Duplicate frame found: /content/drive/MyDrive/FightFrame/Fighting2.mp4_frame_0166.jpg\n",
            "Duplicate frame found: /content/drive/MyDrive/FightFrame/Fighting2.mp4_frame_0174.jpg\n",
            "Duplicate frame found: /content/drive/MyDrive/FightFrame/Fighting2.mp4_frame_0176.jpg\n",
            "Duplicate frame found: /content/drive/MyDrive/FightFrame/Fighting2.mp4_frame_0177.jpg\n",
            "Duplicate frame found: /content/drive/MyDrive/FightFrame/Fighting2.mp4_frame_0179.jpg\n",
            "Duplicate frame found: /content/drive/MyDrive/FightFrame/Fighting2.mp4_frame_0181.jpg\n",
            "Duplicate frame found: /content/drive/MyDrive/FightFrame/Fighting2.mp4_frame_0184.jpg\n",
            "Duplicate frame found: /content/drive/MyDrive/FightFrame/Fighting2.mp4_frame_0189.jpg\n",
            "Duplicate frame found: /content/drive/MyDrive/FightFrame/Fighting2.mp4_frame_0190.jpg\n",
            "Duplicate frame found: /content/drive/MyDrive/FightFrame/Fighting2.mp4_frame_0195.jpg\n",
            "Duplicate frame found: /content/drive/MyDrive/FightFrame/Fighting2.mp4_frame_0197.jpg\n",
            "Duplicate frame found: /content/drive/MyDrive/FightFrame/Fighting2.mp4_frame_0199.jpg\n",
            "Duplicate frame found: /content/drive/MyDrive/FightFrame/Fighting2.mp4_frame_0204.jpg\n",
            "Duplicate frame found: /content/drive/MyDrive/FightFrame/Fighting2.mp4_frame_0213.jpg\n",
            "Duplicate frame found: /content/drive/MyDrive/FightFrame/Fighting2.mp4_frame_0214.jpg\n",
            "Duplicate frame found: /content/drive/MyDrive/FightFrame/Fighting2.mp4_frame_0215.jpg\n",
            "Duplicate frame found: /content/drive/MyDrive/FightFrame/Fighting2.mp4_frame_0216.jpg\n",
            "Duplicate frame found: /content/drive/MyDrive/BurFrame/Burglary1.mp4_frame_0016.jpg\n",
            "Duplicate frame found: /content/drive/MyDrive/BurFrame/Burglary2.mp4_frame_0003.jpg\n",
            "Duplicate frame found: /content/drive/MyDrive/BurFrame/Burglary2.mp4_frame_0004.jpg\n",
            "Duplicate frame found: /content/drive/MyDrive/BurFrame/Burglary2.mp4_frame_0005.jpg\n",
            "Duplicate frame found: /content/drive/MyDrive/BurFrame/Burglary2.mp4_frame_0006.jpg\n",
            "Duplicate frame found: /content/drive/MyDrive/BurFrame/Burglary2.mp4_frame_0007.jpg\n",
            "Duplicate frame found: /content/drive/MyDrive/BurFrame/Burglary2.mp4_frame_0008.jpg\n",
            "Duplicate frame found: /content/drive/MyDrive/BurFrame/Burglary2.mp4_frame_0009.jpg\n",
            "Duplicate frame found: /content/drive/MyDrive/BurFrame/Burglary2.mp4_frame_0010.jpg\n",
            "Duplicate frame found: /content/drive/MyDrive/BurFrame/Burglary2.mp4_frame_0011.jpg\n",
            "Duplicate frame found: /content/drive/MyDrive/BurFrame/Burglary2.mp4_frame_0012.jpg\n",
            "Duplicate frame found: /content/drive/MyDrive/BurFrame/Burglary2.mp4_frame_0013.jpg\n",
            "Duplicate frame found: /content/drive/MyDrive/BurFrame/Burglary2.mp4_frame_0014.jpg\n",
            "Duplicate frame found: /content/drive/MyDrive/BurFrame/Burglary2.mp4_frame_0015.jpg\n",
            "Duplicate frame found: /content/drive/MyDrive/BurFrame/Burglary2.mp4_frame_0016.jpg\n",
            "Duplicate frame found: /content/drive/MyDrive/BurFrame/Burglary2.mp4_frame_0017.jpg\n",
            "Duplicate frame found: /content/drive/MyDrive/BurFrame/Burglary2.mp4_frame_0018.jpg\n",
            "Duplicate frame found: /content/drive/MyDrive/BurFrame/Burglary2.mp4_frame_0019.jpg\n",
            "Duplicate frame found: /content/drive/MyDrive/BurFrame/Burglary2.mp4_frame_0020.jpg\n",
            "Duplicate frame found: /content/drive/MyDrive/BurFrame/Burglary2.mp4_frame_0021.jpg\n",
            "Duplicate frame found: /content/drive/MyDrive/BurFrame/Burglary2.mp4_frame_0022.jpg\n",
            "Duplicate frame found: /content/drive/MyDrive/BurFrame/Burglary2.mp4_frame_0023.jpg\n",
            "Duplicate frame found: /content/drive/MyDrive/BurFrame/Burglary2.mp4_frame_0024.jpg\n",
            "Duplicate frame found: /content/drive/MyDrive/BurFrame/Burglary2.mp4_frame_0026.jpg\n",
            "Duplicate frame found: /content/drive/MyDrive/BurFrame/Burglary2.mp4_frame_0027.jpg\n",
            "Duplicate frame found: /content/drive/MyDrive/BurFrame/Burglary2.mp4_frame_0054.jpg\n",
            "Duplicate frame found: /content/drive/MyDrive/BurFrame/Burglary2.mp4_frame_0056.jpg\n",
            "Duplicate frame found: /content/drive/MyDrive/BurFrame/Burglary2.mp4_frame_0067.jpg\n",
            "Duplicate frame found: /content/drive/MyDrive/BurFrame/Burglary2.mp4_frame_0068.jpg\n",
            "Duplicate frame found: /content/drive/MyDrive/BurFrame/Burglary2.mp4_frame_0071.jpg\n",
            "Duplicate frame found: /content/drive/MyDrive/BurFrame/Burglary2.mp4_frame_0072.jpg\n",
            "Duplicate frame found: /content/drive/MyDrive/BurFrame/Burglary2.mp4_frame_0073.jpg\n",
            "Duplicate frame found: /content/drive/MyDrive/BurFrame/Burglary2.mp4_frame_0074.jpg\n",
            "Duplicate frame found: /content/drive/MyDrive/BurFrame/Burglary2.mp4_frame_0075.jpg\n",
            "Duplicate frame found: /content/drive/MyDrive/BurFrame/Burglary2.mp4_frame_0078.jpg\n",
            "Duplicate frame found: /content/drive/MyDrive/BurFrame/Burglary2.mp4_frame_0079.jpg\n",
            "Duplicate frame found: /content/drive/MyDrive/BurFrame/Burglary2.mp4_frame_0080.jpg\n",
            "Duplicate frame found: /content/drive/MyDrive/BurFrame/Burglary2.mp4_frame_0082.jpg\n",
            "Duplicate frame found: /content/drive/MyDrive/BurFrame/Burglary2.mp4_frame_0083.jpg\n",
            "Duplicate frame found: /content/drive/MyDrive/BurFrame/Burglary2.mp4_frame_0084.jpg\n",
            "Duplicate frame found: /content/drive/MyDrive/BurFrame/Burglary2.mp4_frame_0085.jpg\n",
            "Duplicate frame found: /content/drive/MyDrive/BurFrame/Burglary2.mp4_frame_0086.jpg\n"
          ]
        },
        {
          "data": {
            "image/png": "[encoded data removed]",
            "text/plain": [
              "<Figure size 640x480 with 1 Axes>"
            ]
          },
          "metadata": {},
          "output_type": "display_data"
        }
      ],
      "source": [
        "import os\n",
        "import cv2\n",
        "import imagehash\n",
        "from PIL import Image\n",
        "import matplotlib.pyplot as plt\n",
        "\n",
        "# Function to calculate pHash for an image\n",
        "def calculate_phash(image_path):\n",
        "    image = Image.open(image_path)\n",
        "    image_hash = imagehash.phash(image)\n",
        "    return image_hash\n",
        "\n",
        "# Function to remove duplicate frames and return counts\n",
        "def remove_duplicate_frames(input_folders, output_folders):\n",
        "    total_frames = 0\n",
        "    unique_frames = 0\n",
        "    duplicated_frames = 0\n",
        "\n",
        "    for input_folder, output_folder in zip(input_folders, output_folders):\n",
        "        if not os.path.exists(output_folder):\n",
        "            os.makedirs(output_folder)\n",
        "\n",
        "        frame_hashes = set()  # Set to store unique frame hashes\n",
        "\n",
        "        for root, _, files in os.walk(input_folder):\n",
        "            for filename in files:\n",
        "                if filename.lower().endswith(('.jpg', '.jpeg', '.png', '.bmp')):\n",
        "                    total_frames += 1\n",
        "                    image_path = os.path.join(root, filename)\n",
        "                    image_hash = calculate_phash(image_path)\n",
        "\n",
        "                    # Check if the hash is not in the set (i.e., a unique frame)\n",
        "                    if image_hash not in frame_hashes:\n",
        "                        frame_hashes.add(image_hash)\n",
        "                        output_path = os.path.join(output_folder, filename)\n",
        "                        cv2.imwrite(output_path, cv2.imread(image_path))\n",
        "                        unique_frames += 1\n",
        "                    else:\n",
        "                        duplicated_frames += 1\n",
        "                        print(f\"Duplicate frame found: {image_path}\")\n",
        "\n",
        "    return total_frames, unique_frames, duplicated_frames\n",
        "\n",
        "if __name__ == \"__main__\":\n",
        "    input_folders = [\n",
        "        '/content/drive/MyDrive/ArrestFrame',\n",
        "        '/content/drive/MyDrive/AbuseFrame',\n",
        "        '/content/drive/MyDrive/AssaultFrame',\n",
        "        '/content/drive/MyDrive/FightFrame',\n",
        "        '/content/drive/MyDrive/BurFrame'\n",
        "    ]\n",
        "\n",
        "    output_folders = [\n",
        "        '/content/drive/MyDrive/ArrestOFrame',\n",
        "        '/content/drive/MyDrive/AbuseOFrame',\n",
        "        '/content/drive/MyDrive/AssaultOFrame',\n",
        "        '/content/drive/MyDrive/FightOFrame',\n",
        "        '/content/drive/MyDrive/BurOFrame'\n",
        "    ]\n",
        "\n",
        "    total_frames, unique_frames, duplicated_frames = remove_duplicate_frames(input_folders, output_folders)\n",
        "\n",
        "    # Plotting the bar graph\n",
        "    categories = ['Total Frames', 'Unique Frames', 'Duplicated Frames']\n",
        "    counts = [total_frames, unique_frames, duplicated_frames]\n",
        "\n",
        "    plt.bar(categories, counts, color=['red', 'green', 'blue'])\n",
        "\n",
        "    # Adding labels and title\n",
        "    plt.xlabel('Frame Type')\n",
        "    plt.ylabel('Count')\n",
        "    plt.title('Total Frames vs Unique Frames vs Duplicated Frames')\n",
        "\n",
        "    # Displaying the graph\n",
        "    plt.show()\n"
      ]
    }
  ],
  "metadata": {
    "colab": {
      "provenance": []
    },
    "kernelspec": {
      "display_name": "Python 3",
      "name": "python3"
    },
    "language_info": {
      "name": "python"
    }
  },
  "nbformat": 4,
  "nbformat_minor": 0
}